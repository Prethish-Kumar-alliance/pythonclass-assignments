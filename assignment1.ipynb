{
 "cells": [
  {
   "cell_type": "markdown",
   "metadata": {},
   "source": [
    "**Part 1: Operators**"
   ]
  },
  {
   "cell_type": "markdown",
   "metadata": {},
   "source": [
    "**_Exercise 1: Arithmetic Operators_**"
   ]
  },
  {
   "cell_type": "code",
   "execution_count": 1,
   "metadata": {},
   "outputs": [
    {
     "name": "stdout",
     "output_type": "stream",
     "text": [
      "Addition: 13\n",
      "Subtraction: 7\n",
      "Multiplication: 30\n",
      "Division: 3.3333333333333335\n",
      "Modulus: 1\n",
      "Exponentiation: 1000\n",
      "Floor Division: 3\n"
     ]
    }
   ],
   "source": [
    "a = int(input('Enter first number:'))\n",
    "b = int(input('Enter second number:'))\n",
    "\n",
    "print('Addition:',a+b)\n",
    "print('Subtraction:',a-b)\n",
    "print('Multiplication:',a*b)\n",
    "print('Division:',a/b)\n",
    "print('Modulus:',a%b)\n",
    "print('Exponentiation:',a**b)\n",
    "print('Floor Division:',a//b)\n"
   ]
  },
  {
   "cell_type": "markdown",
   "metadata": {},
   "source": [
    "**_Exercise 2: Comparison Operators_**"
   ]
  },
  {
   "cell_type": "code",
   "execution_count": 5,
   "metadata": {},
   "outputs": [
    {
     "name": "stdout",
     "output_type": "stream",
     "text": [
      "2 is equal to 2\n"
     ]
    }
   ],
   "source": [
    "a = int(input('Enter first number:'))\n",
    "b = int(input('Enter second number:'))\n",
    "\n",
    "# 1. If the first number is greater than the second. \n",
    "\n",
    "if a>b:\n",
    "    print(a,'is greater than', b)\n",
    "\n",
    "# 2. If the first number is equal to the second. \n",
    "\n",
    "elif a==b:\n",
    "    print(a,'is equal to', b)\n",
    "\n",
    "# 3. If the first number is less than or equal to the second. \n",
    "elif a<=b:\n",
    "    print(a,'is less than', b)"
   ]
  },
  {
   "cell_type": "markdown",
   "metadata": {},
   "source": [
    "**_Exercise 3: Logical Operators_**"
   ]
  },
  {
   "cell_type": "code",
   "execution_count": 8,
   "metadata": {},
   "outputs": [
    {
     "name": "stdout",
     "output_type": "stream",
     "text": [
      "False\n",
      "False\n",
      "True\n",
      "True\n"
     ]
    }
   ],
   "source": [
    "a = bool(input('Enter First Boolean Value'))\n",
    "b = bool(input('Enter Second Boolean Value'))\n",
    "c = bool(input('Enter Third Boolean Value'))\n",
    "\n",
    "# Using and or or operators on boolean values\n",
    "result_and = a and b and c\n",
    "result_or = a or b or c\n",
    "\n",
    "# Using not operator with and or or operators on boolean values\n",
    "# not operator inverses the boolean value. not true = false\n",
    "result_not_and = not a and  not b and not c\n",
    "result_not_or = not a or not b or not c\n",
    "\n",
    "print(result_and)\n",
    "print(result_or)\n",
    "print(result_not_and)\n",
    "print(result_not_or)\n"
   ]
  },
  {
   "cell_type": "markdown",
   "metadata": {},
   "source": [
    "**Part 2: Strings**"
   ]
  },
  {
   "cell_type": "markdown",
   "metadata": {},
   "source": [
    "**_Exercise 4: String Manipulation_**"
   ]
  },
  {
   "cell_type": "code",
   "execution_count": 9,
   "metadata": {},
   "outputs": [
    {
     "name": "stdout",
     "output_type": "stream",
     "text": [
      "5\n",
      "First Character: h Last Character: o\n",
      "olleh\n",
      "Uppercase: HELLO Lowercase: hello\n"
     ]
    }
   ],
   "source": [
    "a  = input('Enter A String:')\n",
    "\n",
    "#The length of the string. \n",
    "print(len(a))\n",
    "\n",
    "# The first and last character.\n",
    "print('First Character:',a[0],'Last Character:',a[-1])\n",
    "\n",
    "# The string in reverse order.\n",
    "print(a[::-1])\n",
    "\n",
    "# The string in uppercase and lowercase. \n",
    "print('Uppercase:',a.upper(),'Lowercase:',a.lower())\n"
   ]
  },
  {
   "cell_type": "markdown",
   "metadata": {},
   "source": [
    "**_Exercise 5: String Formatting_**"
   ]
  },
  {
   "cell_type": "code",
   "execution_count": 11,
   "metadata": {},
   "outputs": [
    {
     "name": "stdout",
     "output_type": "stream",
     "text": [
      "Hello prethish, you are 22 years old.\n"
     ]
    }
   ],
   "source": [
    "name = input('Enter Your Name:')\n",
    "age = input('Enter Your Age:')\n",
    "\n",
    "print(f'Hello {name}, you are {age} years old.')"
   ]
  },
  {
   "cell_type": "markdown",
   "metadata": {},
   "source": [
    "**_Exercise 6: Substring Search_**"
   ]
  },
  {
   "cell_type": "code",
   "execution_count": 12,
   "metadata": {},
   "outputs": [
    {
     "name": "stdout",
     "output_type": "stream",
     "text": [
      "17\n"
     ]
    }
   ],
   "source": [
    "sentence = input('Input A Sentence:')\n",
    "word = input('Input A Word:')\n",
    "\n",
    "# Check to see if word substring is available in sentence using 'in' method\n",
    "if word in sentence: \n",
    "    # .find() is an inbuilt python function that returns the first instance of a word if it exits in the sentence or returns '-1'.\n",
    "    # Alternative is .index() function but it raises an error if the word is not found.\n",
    "    print(sentence.find(word))"
   ]
  },
  {
   "cell_type": "markdown",
   "metadata": {},
   "source": [
    "**_Part 3: Lists_**"
   ]
  },
  {
   "cell_type": "markdown",
   "metadata": {},
   "source": [
    "**_Exercise 7: List Operations_**"
   ]
  },
  {
   "cell_type": "code",
   "execution_count": 16,
   "metadata": {},
   "outputs": [
    {
     "name": "stdout",
     "output_type": "stream",
     "text": [
      "5\n",
      "Max: 1 Min 1\n"
     ]
    }
   ],
   "source": [
    "# This is an advanced way of taking multiple user input and constructing a list out of it. \n",
    "#  It is called List Comprethension. We then convert the input into int.\n",
    "num_list = [int(input()) for x in range(0,5)]\n",
    "# num_list contains a list of numbers like [n1,n2,n3,n4,n5]\n",
    "print(sum(num_list))\n",
    "print('Max:',max(num_list),'Min',min(num_list))"
   ]
  },
  {
   "cell_type": "markdown",
   "metadata": {},
   "source": [
    "**_Exercise 8: List Manipulation_**"
   ]
  },
  {
   "cell_type": "code",
   "execution_count": null,
   "metadata": {},
   "outputs": [],
   "source": [
    "fruit_list = [input() for x in range(0,5)]\n",
    "\n",
    "# Adds/Appends New Fruit.\n",
    "fruit_list.append('Dragon Fruit')\n",
    "# Delets/Pops the second fruit from the list.\n",
    "fruit_list.pop(1)\n",
    "\n",
    "print(fruit_list)"
   ]
  },
  {
   "cell_type": "markdown",
   "metadata": {},
   "source": [
    "**_Exercise 9: Sorting a List_**"
   ]
  },
  {
   "cell_type": "code",
   "execution_count": 19,
   "metadata": {},
   "outputs": [
    {
     "name": "stdout",
     "output_type": "stream",
     "text": [
      "Ascending: [2, 4, 7, 8, 56]\n",
      "Descending: [56, 8, 7, 4, 2]\n"
     ]
    }
   ],
   "source": [
    "num_list = [int(input()) for x in range(0,5)]\n",
    "\n",
    "# Sorts the list in Ascending Order.\n",
    "num_list.sort()\n",
    "print('Ascending:',num_list)\n",
    "\n",
    "# Sorts the list in Descending Order.\n",
    "num_list.sort(reverse=True)\n",
    "print('Descending:',num_list)"
   ]
  },
  {
   "cell_type": "markdown",
   "metadata": {},
   "source": [
    "**_Exercise 10: List Slicing_**"
   ]
  },
  {
   "cell_type": "code",
   "execution_count": 33,
   "metadata": {},
   "outputs": [
    {
     "name": "stdout",
     "output_type": "stream",
     "text": [
      "[1, 2, 3, 4, 5]\n",
      "[6, 7, 8, 9, 10]\n",
      "[3, 4, 5, 6, 7]\n"
     ]
    }
   ],
   "source": [
    "numbers = [1, 2, 3, 4, 5, 6, 7, 8, 9, 10]\n",
    "\n",
    "# Prints first 5 numbers.\n",
    "print(numbers[0:5])\n",
    "\n",
    "# Prints last 5 elements.\n",
    "print(numbers[-5:])\n",
    "\n",
    "# Prints last 2 to 7 elements.\n",
    "print(numbers[2:7])"
   ]
  },
  {
   "cell_type": "markdown",
   "metadata": {},
   "source": [
    "**BONUS QUESTION**"
   ]
  },
  {
   "cell_type": "markdown",
   "metadata": {},
   "source": [
    "**_Exercise 11: Nested List_**"
   ]
  },
  {
   "cell_type": "code",
   "execution_count": 36,
   "metadata": {},
   "outputs": [
    {
     "name": "stdout",
     "output_type": "stream",
     "text": [
      "pre's average score is: 20.0\n",
      "abi's average score is: 10.0\n",
      "ronald's average score is: 20.0\n"
     ]
    }
   ],
   "source": [
    "students = []\n",
    "\n",
    "for i in range(3):\n",
    "    name = input(f\"Enter name of student {i+1}: \")\n",
    "\n",
    "    # Get 3 Subject Scores As A List Of Integers Using List Comprehension\n",
    "    scores = [int(input(f'Enter score for subject {j+1} for {name}: ')) for j in range(3)]\n",
    "\n",
    "    # Append The Student's Name And Their Scores As A Nested List\n",
    "    students.append([name, scores])\n",
    "\n",
    "for student in students:\n",
    "    name = student[0]\n",
    "    scores = student[1]\n",
    "    average_score = sum(scores) / len(scores)\n",
    "    print(f'{name}\\'s average score is: {average_score}')"
   ]
  }
 ],
 "metadata": {
  "kernelspec": {
   "display_name": "Python 3",
   "language": "python",
   "name": "python3"
  },
  "language_info": {
   "codemirror_mode": {
    "name": "ipython",
    "version": 3
   },
   "file_extension": ".py",
   "mimetype": "text/x-python",
   "name": "python",
   "nbconvert_exporter": "python",
   "pygments_lexer": "ipython3",
   "version": "3.11.5"
  }
 },
 "nbformat": 4,
 "nbformat_minor": 2
}
